{
 "cells": [
  {
   "cell_type": "code",
   "execution_count": 512,
   "metadata": {},
   "outputs": [],
   "source": [
    "import numpy as np\n",
    "import matplotlib.pyplot as plt\n",
    "%matplotlib inline  \n",
    "plt.rcParams[\"figure.figsize\"] = (20, 10)"
   ]
  },
  {
   "cell_type": "code",
   "execution_count": 522,
   "metadata": {},
   "outputs": [],
   "source": [
    "# Capscum\n",
    "# Zucchini\n",
    "# "
   ]
  },
  {
   "cell_type": "code",
   "execution_count": 513,
   "metadata": {},
   "outputs": [],
   "source": [
    "def draw(image, x, y):\n",
    "    image[x:x+3, y:y+3, 0]=np.array([[0., 0., 0.], [0., 1., 1.], [0., 1., 1.]])\n",
    "    image[x:x+3, y:y+3, 1]=np.array([[1., 1., 0.], [0., 0., 0.], [0., 0., 0.]])\n",
    "    image[x:x+3, y:y+3, 2]=np.array([[0., 0., 0.], [0., 0., 0.], [0., 0., 0.]])\n",
    "    return image"
   ]
  },
  {
   "cell_type": "code",
   "execution_count": 514,
   "metadata": {},
   "outputs": [],
   "source": [
    "BROWN_BACKGROUND = (0.70, 0.62, 0.5)"
   ]
  },
  {
   "cell_type": "code",
   "execution_count": 515,
   "metadata": {},
   "outputs": [],
   "source": [
    "image = np.ones((55, 140, 3))\n",
    "image[:, :, 0] = image[:, :, 0] * BROWN_BACKGROUND[0]\n",
    "image[:, :, 1] = image[:, :, 1] *  BROWN_BACKGROUND[1]\n",
    "image[:, :, 2] = image[:, :, 2] *  BROWN_BACKGROUND[2]"
   ]
  },
  {
   "cell_type": "code",
   "execution_count": 516,
   "metadata": {},
   "outputs": [],
   "source": [
    "BED0 = [5, 5,  17, 65]\n",
    "BED1 = [22, 5,  34, 65]\n",
    "BED2 = [39, 5,  51, 65]\n",
    "BED3 = [5, 70,  17, 130]\n",
    "BED4 = [22, 110,  51, 130]\n",
    "beds = [BED0, BED1, BED2, BED3, BED4]"
   ]
  },
  {
   "cell_type": "code",
   "execution_count": 517,
   "metadata": {},
   "outputs": [
    {
     "name": "stdout",
     "output_type": "stream",
     "text": [
      "Area: 34.599999999999994m^2\n"
     ]
    }
   ],
   "source": [
    "area = 0.\n",
    "for bed in beds:\n",
    "    x = (bed[0] / 10. - bed[2] / 10.)\n",
    "    y = (bed[1] / 10. - bed[3] / 10.)\n",
    "    area += x * y\n",
    "print(\"Area: {}m^2\".format(area))"
   ]
  },
  {
   "cell_type": "code",
   "execution_count": null,
   "metadata": {},
   "outputs": [],
   "source": []
  },
  {
   "cell_type": "code",
   "execution_count": 518,
   "metadata": {},
   "outputs": [
    {
     "data": {
      "text/plain": [
       "7414.285714285714"
      ]
     },
     "execution_count": 518,
     "metadata": {},
     "output_type": "execute_result"
    }
   ],
   "source": [
    "area * 150 / 0.7"
   ]
  },
  {
   "cell_type": "code",
   "execution_count": 519,
   "metadata": {},
   "outputs": [],
   "source": [
    "for bed in beds:\n",
    "    image[bed[0]:bed[2], bed[1]:bed[3], :] = np.array([0.3, 0.2, 0.2]) \n",
    "image = draw(image, 5, 5)"
   ]
  },
  {
   "cell_type": "code",
   "execution_count": 520,
   "metadata": {},
   "outputs": [],
   "source": [
    "image[10, 20, 1] = 0.3"
   ]
  },
  {
   "cell_type": "code",
   "execution_count": 521,
   "metadata": {},
   "outputs": [
    {
     "data": {
      "image/png": "[encoded data removed]",
      "text/plain": [
       "<Figure size 1440x720 with 1 Axes>"
      ]
     },
     "metadata": {},
     "output_type": "display_data"
    }
   ],
   "source": [
    "fig, ax = plt.subplots()\n",
    "ax.imshow(image, cmap=plt.cm.gray, interpolation='nearest')\n",
    "ax.get_xaxis().set_visible(False)\n",
    "ax.axes.get_yaxis().set_visible(False)\n",
    "fig.patch.set_facecolor('lightslategray')"
   ]
  },
  {
   "cell_type": "code",
   "execution_count": 460,
   "metadata": {},
   "outputs": [
    {
     "ename": "ValueError",
     "evalue": "cannot reshape array of size 20000 into shape (100,100)",
     "output_type": "error",
     "traceback": [
      "\u001b[0;31m---------------------------------------------------------------------------\u001b[0m",
      "\u001b[0;31mValueError\u001b[0m                                Traceback (most recent call last)",
      "\u001b[0;32m<ipython-input-460-75ddc5cc8654>\u001b[0m in \u001b[0;36m<module>\u001b[0;34m\u001b[0m\n\u001b[0;32m----> 1\u001b[0;31m \u001b[0mx\u001b[0m \u001b[0;34m=\u001b[0m \u001b[0mnp\u001b[0m\u001b[0;34m.\u001b[0m\u001b[0mmgrid\u001b[0m\u001b[0;34m[\u001b[0m\u001b[0;36m0.\u001b[0m\u001b[0;34m:\u001b[0m\u001b[0;36m10.\u001b[0m\u001b[0;34m:\u001b[0m\u001b[0;36m0.1\u001b[0m\u001b[0;34m,\u001b[0m \u001b[0;36m0.\u001b[0m\u001b[0;34m:\u001b[0m\u001b[0;36m10.\u001b[0m\u001b[0;34m:\u001b[0m\u001b[0;36m0.1\u001b[0m\u001b[0;34m]\u001b[0m\u001b[0;34m.\u001b[0m\u001b[0mreshape\u001b[0m\u001b[0;34m(\u001b[0m\u001b[0;36m100\u001b[0m\u001b[0;34m,\u001b[0m\u001b[0;36m100\u001b[0m\u001b[0;34m)\u001b[0m\u001b[0;34m.\u001b[0m\u001b[0mT\u001b[0m\u001b[0;34m\u001b[0m\u001b[0m\n\u001b[0m",
      "\u001b[0;31mValueError\u001b[0m: cannot reshape array of size 20000 into shape (100,100)"
     ]
    }
   ],
   "source": [
    "x = np.mgrid[0.:10.:0.1, 0.:10.:0.1].reshape(100,100).T"
   ]
  },
  {
   "cell_type": "code",
   "execution_count": 35,
   "metadata": {},
   "outputs": [
    {
     "data": {
      "text/plain": [
       "20000"
      ]
     },
     "execution_count": 35,
     "metadata": {},
     "output_type": "execute_result"
    }
   ],
   "source": [
    "100*200"
   ]
  },
  {
   "cell_type": "code",
   "execution_count": 1,
   "metadata": {},
   "outputs": [],
   "source": [
    "class Vegetable(object):\n",
    "    def __init__(self):\n",
    "        pass"
   ]
  },
  {
   "cell_type": "code",
   "execution_count": 2,
   "metadata": {},
   "outputs": [],
   "source": [
    "class Cauliflower(Vegetable):\n",
    "    def __init__(self):\n",
    "        time_to_grow = timedelta(weeks=5) \n",
    "        plant_to_plant_cm = 45\n",
    "        time_in_sun = timedelta(hours=6) \n",
    "        soil_ph = 6.6"
   ]
  },
  {
   "cell_type": "code",
   "execution_count": 3,
   "metadata": {},
   "outputs": [
    {
     "ename": "SyntaxError",
     "evalue": "invalid syntax (<ipython-input-3-c198e3e80f51>, line 1)",
     "output_type": "error",
     "traceback": [
      "\u001b[0;36m  File \u001b[0;32m\"<ipython-input-3-c198e3e80f51>\"\u001b[0;36m, line \u001b[0;32m1\u001b[0m\n\u001b[0;31m    class Kale\u001b[0m\n\u001b[0m              ^\u001b[0m\n\u001b[0;31mSyntaxError\u001b[0m\u001b[0;31m:\u001b[0m invalid syntax\n"
     ]
    }
   ],
   "source": [
    "class Kale"
   ]
  },
  {
   "cell_type": "code",
   "execution_count": null,
   "metadata": {},
   "outputs": [],
   "source": [
    "class Leek"
   ]
  },
  {
   "cell_type": "code",
   "execution_count": null,
   "metadata": {},
   "outputs": [],
   "source": [
    "class HollowCrownParsnip(object):\n",
    "    def __init__(self):\n",
    "        time_to_grow = timedelta(weeks=18) \n",
    "        time_germination = timedelta(days=28)\n",
    "        plant_to_plant_cm = 45\n",
    "        sow_depth_mm = 6\n",
    "        time_in_sun = timedelta(hours=6) \n",
    "        soil_ph = 6.6    \n",
    "        dollar_kg = 11\n",
    "        kg_m3_year = 2.5\n",
    "        must_have_frost = True\n",
    "        tolerates_frost = True\n",
    "        germination_temp"
   ]
  }
 ],
 "metadata": {
  "kernelspec": {
   "display_name": "Python 3",
   "language": "python",
   "name": "python3"
  },
  "language_info": {
   "codemirror_mode": {
    "name": "ipython",
    "version": 3
   },
   "file_extension": ".py",
   "mimetype": "text/x-python",
   "name": "python",
   "nbconvert_exporter": "python",
   "pygments_lexer": "ipython3",
   "version": "3.7.0"
  }
 },
 "nbformat": 4,
 "nbformat_minor": 2
}
